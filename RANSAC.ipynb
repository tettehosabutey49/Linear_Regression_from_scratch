{
 "cells": [
  {
   "cell_type": "markdown",
   "id": "cf742fc9",
   "metadata": {},
   "source": [
    "RANSAC (Random Sample Consensus) fits a regression model by repeatedly selecting random subsets of the data, estimating the model, and keeping the one with the most inliers — making it robust to outliers compared to ordinary least squares, which gets skewed by them."
   ]
  },
  {
   "cell_type": "code",
   "execution_count": null,
   "id": "54036078",
   "metadata": {},
   "outputs": [],
   "source": [
    "from sklearn.linear_model import RANSACRegressor\n"
   ]
  }
 ],
 "metadata": {
  "language_info": {
   "name": "python"
  }
 },
 "nbformat": 4,
 "nbformat_minor": 5
}
