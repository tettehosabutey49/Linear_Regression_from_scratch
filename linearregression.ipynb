{
 "cells": [
  {
   "cell_type": "code",
   "execution_count": 3,
   "id": "b6d4c723",
   "metadata": {},
   "outputs": [],
   "source": [
    "from sklearn.linear_model import RANSACRegressor"
   ]
  },
  {
   "cell_type": "code",
   "execution_count": null,
   "id": "6a98554d",
   "metadata": {},
   "outputs": [],
   "source": []
  },
  {
   "cell_type": "code",
   "execution_count": 4,
   "id": "59fd8c45",
   "metadata": {},
   "outputs": [],
   "source": [
    "ransac = RANSACRegressor(\n",
    "    LinearRegression(),\n",
    "    max_trials=100, #default is 100\n",
    "    min_samples=0.95, \n",
    "    residual_threshold=None, #default is None\n",
    "    random_state=123\n",
    ")"
   ]
  },
  {
   "cell_type": "code",
   "execution_count": null,
   "id": "9e379019",
   "metadata": {},
   "outputs": [],
   "source": [
    "ransac.fit()"
   ]
  }
 ],
 "metadata": {
  "kernelspec": {
   "display_name": "Python (Poetry - Linear Regression)",
   "language": "python",
   "name": "linearregressiontutorial"
  },
  "language_info": {
   "codemirror_mode": {
    "name": "ipython",
    "version": 3
   },
   "file_extension": ".py",
   "mimetype": "text/x-python",
   "name": "python",
   "nbconvert_exporter": "python",
   "pygments_lexer": "ipython3",
   "version": "3.12.3"
  }
 },
 "nbformat": 4,
 "nbformat_minor": 5
}
